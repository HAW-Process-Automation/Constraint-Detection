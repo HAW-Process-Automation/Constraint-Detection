{
 "cells": [
  {
   "cell_type": "code",
   "execution_count": null,
   "id": "830b61e9",
   "metadata": {},
   "outputs": [],
   "source": [
    "from seeq.addons.constraintdetection import _seeq_add_on"
   ]
  },
  {
   "cell_type": "code",
   "execution_count": null,
   "id": "2acd9be6",
   "metadata": {},
   "outputs": [],
   "source": [
    "x = _seeq_add_on.ConstraintDetection()\n",
    "x.ConstraintDetectionUI(jupyter_notebook_url)"
   ]
  }
 ],
 "metadata": {
  "kernelspec": {
   "display_name": "Python 3 (ipykernel)",
   "language": "python",
   "name": "python3"
  },
  "language_info": {
   "codemirror_mode": {
    "name": "ipython",
    "version": 3
   },
   "file_extension": ".py",
   "mimetype": "text/x-python",
   "name": "python",
   "nbconvert_exporter": "python",
   "pygments_lexer": "ipython3",
   "version": "3.8.12"
  }
 },
 "nbformat": 4,
 "nbformat_minor": 5
}
