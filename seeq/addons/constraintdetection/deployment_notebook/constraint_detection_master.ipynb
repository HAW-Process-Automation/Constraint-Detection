{
 "cells": [
  {
   "cell_type": "code",
   "execution_count": 1,
   "id": "830b61e9",
   "metadata": {},
   "outputs": [
    {
     "name": "stdout",
     "output_type": "stream",
     "text": [
      "\n",
      "\u001b[0;31mModuleNotFoundError: \u001b[0mNo module named 'seeq.addons'\n",
      "\n",
      "Error found at \u001b[0;36mline 1\u001b[0m in \u001b[0;32mcell 1\u001b[0m.\n"
     ]
    },
    {
     "data": {
      "application/vnd.jupyter.widget-view+json": {
       "model_id": "4eb85f4b358740cdbd987e2997623fab",
       "version_major": 2,
       "version_minor": 0
      },
      "text/plain": [
       "Button(description='Click to show stack trace', layout=Layout(height='auto', width='auto'), style=ButtonStyle(…"
      ]
     },
     "metadata": {},
     "output_type": "display_data"
    }
   ],
   "source": [
    "from seeq.addons import constraintdetection"
   ]
  },
  {
   "cell_type": "code",
   "execution_count": null,
   "id": "2acd9be6",
   "metadata": {},
   "outputs": [],
   "source": [
    "x = ConstraintDetection()\n",
    "x.ConstraintDetectionUI(jupyter_notebook_url)"
   ]
  }
 ],
 "metadata": {
  "kernelspec": {
   "display_name": "Python 3 (ipykernel)",
   "language": "python",
   "name": "python3"
  },
  "language_info": {
   "codemirror_mode": {
    "name": "ipython",
    "version": 3
   },
   "file_extension": ".py",
   "mimetype": "text/x-python",
   "name": "python",
   "nbconvert_exporter": "python",
   "pygments_lexer": "ipython3",
   "version": "3.8.12"
  }
 },
 "nbformat": 4,
 "nbformat_minor": 5
}
